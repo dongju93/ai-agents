{
 "cells": [
  {
   "cell_type": "code",
   "execution_count": null,
   "id": "df77b685",
   "metadata": {},
   "outputs": [],
   "source": [
    "import openai\n",
    "\n",
    "client = openai.OpenAI()\n",
    "\n",
    "response = client.chat.completions.create(\n",
    "    model=\"gpt-5-nano\",\n",
    "    messages=[{\"role\": \"user\", \"content\": \"왜 하늘은 파란거야?\"}],\n",
    "    reasoning_effort=\"minimal\",\n",
    "    verbosity=\"low\",\n",
    "    # n=8,\n",
    ")\n",
    "\n",
    "# for choice in response.choices:\n",
    "#     print(choice)\n",
    "\n",
    "message = response.choices[0].message.content\n",
    "message"
   ]
  }
 ],
 "metadata": {
  "kernelspec": {
   "display_name": "warm-up (3.13.7)",
   "language": "python",
   "name": "python3"
  },
  "language_info": {
   "codemirror_mode": {
    "name": "ipython",
    "version": 3
   },
   "file_extension": ".py",
   "mimetype": "text/x-python",
   "name": "python",
   "nbconvert_exporter": "python",
   "pygments_lexer": "ipython3",
   "version": "3.13.7"
  }
 },
 "nbformat": 4,
 "nbformat_minor": 5
}
