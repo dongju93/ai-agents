{
 "cells": [
  {
   "cell_type": "code",
   "execution_count": null,
   "id": "a11990b5",
   "metadata": {},
   "outputs": [],
   "source": [
    "# Import lib\n",
    "from autogen_agentchat.teams import (\n",
    "    RoundRobinGroupChat,\n",
    ")  # Group chat of agents, Agent will talks right next agent (e.g. A->B->C->...)\n",
    "from autogen_agentchat.agents import AssistantAgent\n",
    "from autogen_agentchat.conditions import (\n",
    "    MaxMessageTermination,\n",
    "    TextMentionTermination,\n",
    ")  # Termination options for RoundRobinGroupChat\n",
    "from autogen_agentchat.ui import Console\n",
    "from autogen_ext.models.openai import OpenAIChatCompletionClient"
   ]
  },
  {
   "cell_type": "code",
   "execution_count": null,
   "id": "eade4e64",
   "metadata": {},
   "outputs": [],
   "source": [
    "# Agents\n",
    "openai_model = OpenAIChatCompletionClient(model=\"gpt-4o-mini\")\n",
    "\n",
    "clarity_agent = AssistantAgent(\n",
    "    name=\"ClarityAgent\",\n",
    "    model_client=openai_model,\n",
    "    system_message=\"\"\"\n",
    "    You are an expert editor focused on clarity and simplicity. \n",
    "    Your job is to eliminate ambiguity, redundancy, and make every sentence crisp and clear. \n",
    "    Don't worry about persuasion or tone — just make the message easy to read and understand.\n",
    "    \"\"\",\n",
    ")\n",
    "\n",
    "tone_agent = AssistantAgent(\n",
    "    name=\"ToneAgent\",\n",
    "    model_client=openai_model,\n",
    "    system_message=\"\"\"\n",
    "    You are a communication coach focused on emotional tone and professionalism. \n",
    "    Your job is to make the email sound warm, confident, and human — while staying professional \n",
    "    and appropriate for the audience. Improve the emotional resonance, polish the phrasing, \n",
    "    and adjust any words that may come off as stiff, cold, or overly casual.\n",
    "    \"\"\",\n",
    ")\n",
    "\n",
    "persuasion_agent = AssistantAgent(\n",
    "    name=\"PersuasionAgent\",\n",
    "    model_client=openai_model,\n",
    "    system_message=\"\"\"\n",
    "    You are a persuasion expert trained in marketing, behavioral psychology, \n",
    "    and copywriting. Your job is to enhance the email's persuasive power: improve call to action, structure arguments, and emphasize benefits. Remove weak or passive language.\n",
    "    \"\"\",\n",
    ")\n",
    "\n",
    "synthesizer_agent = AssistantAgent(\n",
    "    name=\"SynthesizerAgent\",\n",
    "    model_client=openai_model,\n",
    "    system_message=\"\"\"\n",
    "    You are an advanced email-writing specialist. Your role is to read all \n",
    "    prior agent responses and revisions, and then **synthesize the best ideas** into a unified, \n",
    "    polished draft of the email. Focus on: Integrating clarity, tone, and persuasion improvements; \n",
    "    Ensuring coherence, fluency, and a natural voice; Creating a version that feels professional, \n",
    "    effective, and readable.\n",
    "    \"\"\",\n",
    ")\n",
    "\n",
    "\n",
    "critic_agent = AssistantAgent(\n",
    "    name=\"CriticAgent\",\n",
    "    model_client=openai_model,\n",
    "    system_message=\"\"\"\n",
    "    You are an email quality evaluator. Your job is to perform a final review \n",
    "    of the synthesized email and determine if it meets professional standards. Review the email for: \n",
    "    Clarity and flow, appropriate professional tone, effective call-to-action, and overall coherence.\n",
    "    Be constructive but decisive. If the email has major flaws (unclear message, unprofessional tone, \n",
    "    or missing key elements), provide ONE specific improvement suggestion. If the email meets professional standards and communicates effectively, respond with 'The email meets professional standards.' followed by `TERMINATE` on a new line. You should only approve emails that are perfect enough for professional use, dont settle.\n",
    "    \"\"\",\n",
    ")"
   ]
  },
  {
   "cell_type": "code",
   "execution_count": null,
   "id": "ae07ecf8",
   "metadata": {},
   "outputs": [],
   "source": [
    "# Termination\n",
    "text_termination = TextMentionTermination(text=\"TERMINATE\")\n",
    "max_message_termination = MaxMessageTermination(max_messages=30)\n",
    "termination_conditions = text_termination | max_message_termination"
   ]
  },
  {
   "cell_type": "code",
   "execution_count": null,
   "id": "0db45f76",
   "metadata": {},
   "outputs": [],
   "source": [
    "# GroupChat for Agent(Team)\n",
    "team = RoundRobinGroupChat(\n",
    "    participants=[\n",
    "        clarity_agent,\n",
    "        tone_agent,\n",
    "        persuasion_agent,\n",
    "        synthesizer_agent,\n",
    "        critic_agent,\n",
    "    ],\n",
    "    termination_condition=termination_conditions,\n",
    ")"
   ]
  },
  {
   "cell_type": "code",
   "execution_count": null,
   "id": "01b047f1",
   "metadata": {},
   "outputs": [],
   "source": [
    "# Run the framework\n",
    "await Console(\n",
    "    team.run_stream(\n",
    "        task=\"Thank you for your help! without your help our business collapse, I'll buy lunch later\"\n",
    "    )\n",
    ")"
   ]
  }
 ],
 "metadata": {
  "kernelspec": {
   "display_name": "autogen-deep-research (3.13.7)",
   "language": "python",
   "name": "python3"
  },
  "language_info": {
   "codemirror_mode": {
    "name": "ipython",
    "version": 3
   },
   "file_extension": ".py",
   "mimetype": "text/x-python",
   "name": "python",
   "nbconvert_exporter": "python",
   "pygments_lexer": "ipython3",
   "version": "3.13.7"
  }
 },
 "nbformat": 4,
 "nbformat_minor": 5
}
